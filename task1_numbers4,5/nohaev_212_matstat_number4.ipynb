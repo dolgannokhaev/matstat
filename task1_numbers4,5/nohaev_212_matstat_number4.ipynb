{
 "cells": [
  {
   "cell_type": "code",
   "execution_count": 41,
   "id": "39270e38",
   "metadata": {},
   "outputs": [],
   "source": [
    "import numpy as np\n",
    "import matplotlib.pyplot as plt"
   ]
  },
  {
   "cell_type": "markdown",
   "id": "db4fbbfd",
   "metadata": {},
   "source": [
    "### ЗАДАЕМ ПАРАМЕТР Θ"
   ]
  },
  {
   "cell_type": "code",
   "execution_count": 42,
   "id": "f83e6a61",
   "metadata": {},
   "outputs": [],
   "source": [
    "teta = 10"
   ]
  },
  {
   "cell_type": "markdown",
   "id": "df88263b",
   "metadata": {},
   "source": [
    "### ГЕНЕРИРУЕМ ВЫБОРКУ"
   ]
  },
  {
   "cell_type": "code",
   "execution_count": 43,
   "id": "57b42c4c",
   "metadata": {},
   "outputs": [
    {
     "name": "stdout",
     "output_type": "stream",
     "text": [
      "[14.327 12.146 15.277 12.901 19.623 12.289 19.561 13.191 14.793 17.995\n",
      " 18.056 19.884 17.156 18.419 12.171 13.708 16.49  12.11  17.72  19.334\n",
      " 15.222 11.182 13.432 12.446 17.994 11.604 17.854 19.438 13.84  15.495\n",
      " 18.84  10.077 18.958 19.418 10.166 18.339 18.576 16.738 18.62  14.384\n",
      " 19.733 19.607 10.819 13.212 11.27  18.692 17.646 18.828 18.451 11.616\n",
      " 19.547 18.324 14.99  10.249 14.791 15.571 18.121 19.575 11.531 15.409\n",
      " 18.821 11.981 18.213 13.24  17.477 19.621 17.15  14.542 19.544 12.457\n",
      " 15.441 10.498 19.261 11.498 13.978 17.641 18.42  11.287 19.51  14.846\n",
      " 17.221 17.46  10.196 13.617 19.22  13.716 18.627 12.746 18.151 16.777\n",
      " 11.604 19.3   10.803 13.673 17.451 10.71  14.421 12.36  17.86  19.565]\n"
     ]
    }
   ],
   "source": [
    "sample = np.round(np.random.uniform(teta, 2 * teta, size = 100), 3)\n",
    "print(sample)"
   ]
  },
  {
   "cell_type": "markdown",
   "id": "0318962d",
   "metadata": {},
   "source": [
    "### ОЦЕНКА ПО ОММ : 2/3 < x >"
   ]
  },
  {
   "cell_type": "code",
   "execution_count": 44,
   "id": "de6c36fe",
   "metadata": {},
   "outputs": [
    {
     "name": "stdout",
     "output_type": "stream",
     "text": [
      "Оценка методом моментов: 10.458\n"
     ]
    }
   ],
   "source": [
    "omm = 2 / 3 * np.mean(sample)\n",
    "print(f\"Оценка методом моментов: {np.round(omm, 3)}\")"
   ]
  },
  {
   "cell_type": "markdown",
   "id": "a895e452",
   "metadata": {},
   "source": [
    "### ОЦЕНКА ПО ОМП : x max / 2"
   ]
  },
  {
   "cell_type": "code",
   "execution_count": 45,
   "id": "49b4c39d",
   "metadata": {},
   "outputs": [
    {
     "name": "stdout",
     "output_type": "stream",
     "text": [
      "Оценка методом максимального правдоподобия: 9.942\n"
     ]
    }
   ],
   "source": [
    "omp = sample.max() / 2\n",
    "print(f\"Оценка методом максимального правдоподобия: {np.round(omp, 3)}\")"
   ]
  },
  {
   "cell_type": "markdown",
   "id": "591b8962",
   "metadata": {},
   "source": [
    "### BOOTSTRAP"
   ]
  },
  {
   "cell_type": "code",
   "execution_count": 46,
   "id": "d41001e3",
   "metadata": {},
   "outputs": [],
   "source": [
    "omm_bootstrap = np.array([])\n",
    "omp_bootstrap = np.array([])\n",
    "for _ in range (1000):\n",
    "    subsample = np.random.choice(sample, 100, replace = True)\n",
    "    \n",
    "    i_omm = 2 / 3 * np.mean(subsample)    \n",
    "    omm_bootstrap = np.append(omm_bootstrap, i_omm - omm)\n",
    "    \n",
    "omm_bootstrap = np.sort(omm_bootstrap)"
   ]
  },
  {
   "cell_type": "code",
   "execution_count": 47,
   "id": "2b910215",
   "metadata": {},
   "outputs": [],
   "source": [
    "def hystogramma(x : list[float], msg) -> None:\n",
    "    n = int(1 + np.log2(len(x)))  \n",
    "    plt.figure(figsize = (16, 8))\n",
    "    plt.grid()\n",
    "    plt.hist(x, bins=n, density=True, color = \"royalblue\")\n",
    "    plt.title(msg, fontsize=20)\n",
    "    plt.show()"
   ]
  },
  {
   "cell_type": "code",
   "execution_count": 48,
   "id": "5a082085",
   "metadata": {},
   "outputs": [
    {
     "data": {
      "image/png": "[encoded data removed]",
      "text/plain": [
       "<Figure size 1152x576 with 1 Axes>"
      ]
     },
     "metadata": {
      "needs_background": "light"
     },
     "output_type": "display_data"
    }
   ],
   "source": [
    "hystogramma(omm_bootstrap, \"Гистограмма параметрического бутстрапа для омм\")"
   ]
  },
  {
   "cell_type": "markdown",
   "id": "813af07c",
   "metadata": {},
   "source": [
    "### Доверительные интервалы"
   ]
  },
  {
   "cell_type": "code",
   "execution_count": 49,
   "id": "df14a933",
   "metadata": {},
   "outputs": [
    {
     "name": "stdout",
     "output_type": "stream",
     "text": [
      "Точный доверительный интервал для омм: 10.068 < Θ < 19.399, длина интервала: 9.0\n"
     ]
    }
   ],
   "source": [
    "acc_left = np.round(np.max(sample) / (0.975 + 1), 3)\n",
    "acc_right = np.round(np.max(sample) / (0.025 + 1), 3)\n",
    "acc_len = np.round(acc_right - acc_left)\n",
    "print(f\"Точный доверительный интервал для омм: {acc_left} < Θ < {acc_right}, длина интервала: {acc_len}\")"
   ]
  },
  {
   "cell_type": "code",
   "execution_count": 50,
   "id": "4a4876ac",
   "metadata": {},
   "outputs": [
    {
     "name": "stdout",
     "output_type": "stream",
     "text": [
      "Асимптотический доверительный интервал для омм: 10.051 < Θ < 10.864, длина интервала: 0.813\n"
     ]
    }
   ],
   "source": [
    "m1 = np.mean(sample)\n",
    "m2 = np.mean(sample ** 2)\n",
    "asymp_omm_left = np.round(-(2/3 * ((m2 - m1 ** 2) ** 0.5) * 1.96 / (100) ** 0.5 - omm), 3)\n",
    "asymp_omm_right = np.round(-(2/3 * ((m2 - m1 ** 2) ** 0.5) * -1.96 / (100) ** 0.5 - omm), 3)\n",
    "asymp_omm_len = np.round(asymp_omm_right - asymp_omm_left, 3)\n",
    "print(f\"Асимптотический доверительный интервал для омм: \\\n",
    "{asymp_omm_left} < Θ < {asymp_omm_right}, длина интервала: {asymp_omm_len}\")"
   ]
  },
  {
   "cell_type": "code",
   "execution_count": 51,
   "id": "cacc7f0f",
   "metadata": {},
   "outputs": [
    {
     "name": "stdout",
     "output_type": "stream",
     "text": [
      "Доверительный интервал для омм по bootstrap:10.055 < Θ < 10.843, длина интервала: 0.718\n"
     ]
    }
   ],
   "source": [
    "boot_omm_left = np.round(omm - omm_bootstrap[975], 3)\n",
    "boot_omm_right = np.round(omm - omm_bootstrap[25], 3)\n",
    "boot_omm_len = np.round(omm_right - omm_left, 3)\n",
    "print(f\"Доверительный интервал для омм по bootstrap:\\\n",
    "{boot_omm_left} < Θ < {boot_omm_right}, длина интервала: {boot_omm_len}\")"
   ]
  },
  {
   "cell_type": "code",
   "execution_count": 52,
   "id": "6c57e02d",
   "metadata": {},
   "outputs": [
    {
     "data": {
      "image/png": "[encoded data removed]",
      "text/plain": [
       "<Figure size 864x648 with 1 Axes>"
      ]
     },
     "metadata": {
      "needs_background": "light"
     },
     "output_type": "display_data"
    }
   ],
   "source": [
    "plt.figure(figsize = (12, 9))\n",
    "plt.plot([acc_left, acc_right], [1, 1], label = \"Точный инт.\")\n",
    "plt.plot([asymp_omm_left, asymp_omm_right], [1.5, 1.5], label = \"Ассимп. инт.\")\n",
    "plt.plot([boot_omm_left, boot_omm_right], [2, 2], label = \"Бутстр. инт.\")\n",
    "plt.legend(prop = {\"size\" : 20})\n",
    "plt.show()"
   ]
  },
  {
   "cell_type": "code",
   "execution_count": 53,
   "id": "6b796866",
   "metadata": {},
   "outputs": [
    {
     "name": "stdout",
     "output_type": "stream",
     "text": [
      "Бутстраповский интервал является самым коротким среди доверительных интервалов, его длина: 0.718\n"
     ]
    }
   ],
   "source": [
    "vals = [[acc_len, \"Точный доверительный интервал\"], \n",
    "        [asymp_omm_len, \"Асимптотический интервал\"], \n",
    "        [omm_len, \"Бутстраповский интервал\"]]\n",
    "shortest = min(vals, key = lambda arr : arr[0])\n",
    "print(f\"{shortest[1]} является самым коротким среди доверительных интервалов, его длина: {shortest[0]}\")"
   ]
  }
 ],
 "metadata": {
  "kernelspec": {
   "display_name": "Python 3 (ipykernel)",
   "language": "python",
   "name": "python3"
  },
  "language_info": {
   "codemirror_mode": {
    "name": "ipython",
    "version": 3
   },
   "file_extension": ".py",
   "mimetype": "text/x-python",
   "name": "python",
   "nbconvert_exporter": "python",
   "pygments_lexer": "ipython3",
   "version": "3.9.12"
  }
 },
 "nbformat": 4,
 "nbformat_minor": 5
}
