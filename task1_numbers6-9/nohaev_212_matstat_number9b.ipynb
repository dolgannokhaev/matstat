{
 "cells": [
  {
   "cell_type": "code",
   "execution_count": 77,
   "id": "17fd3501",
   "metadata": {},
   "outputs": [],
   "source": [
    "import numpy as np\n",
    "import scipy.integrate as integrate\n",
    "from scipy.optimize import minimize\n",
    "import matplotlib.pyplot as plt\n",
    "from scipy.stats import chi2"
   ]
  },
  {
   "cell_type": "markdown",
   "id": "c8e1d79a",
   "metadata": {},
   "source": [
    "### ПУНКТ Б)"
   ]
  },
  {
   "cell_type": "code",
   "execution_count": 78,
   "id": "5e779cb0",
   "metadata": {},
   "outputs": [],
   "source": [
    "n = 100\n",
    "s = 2\n",
    "m = 10"
   ]
  },
  {
   "cell_type": "code",
   "execution_count": 79,
   "id": "50345e40",
   "metadata": {},
   "outputs": [],
   "source": [
    "def gauss(x, m, sigma):\n",
    "    return 1 / ((2 * np.pi)**0.5 * sigma) * np.e**-((x - m)**2 / (2 * sigma**2))\n",
    "\n",
    "def ln_gauss(param, x_vals):\n",
    "    m, sigma = param\n",
    "    min_ln = 0\n",
    "    for x in x_vals:\n",
    "        func = lambda x : gauss(x, m, sigma) \n",
    "        integral, _ = integrate.quad(func, x[0], x[1])\n",
    "        min_ln += np.log(integral ** x[2]) #произведение для функции правдподобия <=> сумма для логарифма функции правдоподобия\n",
    "    return -min_ln # поиск максимума f(x) <=> поиск минимума -f(x)"
   ]
  },
  {
   "cell_type": "markdown",
   "id": "29debd69",
   "metadata": {},
   "source": [
    "Распределение Гаусса принимает максимальное значение в точке, где x = m, так что начальным предположением для m будет 5, т.к. ему соответствует максимальная величина - 18.\n",
    "\n",
    "Также, из свойств распределения знаем, что на отрезке [m - 2sigma, m + 2sigma] лежит 95% исходов. В нашем случае, 95 исходов из 100 лежат на отрезке [1, 9], а значит предполагаем что сигма = 8 / (2 * 2) = 2"
   ]
  },
  {
   "cell_type": "code",
   "execution_count": 80,
   "id": "56dcedc9",
   "metadata": {},
   "outputs": [],
   "source": [
    "m_teor = 5\n",
    "sigma_teor = 2"
   ]
  },
  {
   "cell_type": "code",
   "execution_count": 81,
   "id": "0da34335",
   "metadata": {},
   "outputs": [
    {
     "name": "stdout",
     "output_type": "stream",
     "text": [
      "Значение m по омп: 5.29, \n",
      "Значение sigma по омп 2.68\n"
     ]
    }
   ],
   "source": [
    "x_vals = [(-np.inf, 1, 5), #[0, 1)\n",
    "            (1, 2, 8), #[1, 2)\n",
    "            (2, 3, 6), #[2, 3)\n",
    "            (3, 4, 12), #[3, 4)\n",
    "            (4, 5, 14), #[4, 5)\n",
    "            (5, 6, 18), #[5, 6)\n",
    "            (6, 7, 11), #[6, 7)\n",
    "            (7, 8, 6), #[7, 8)\n",
    "            (8, 9, 13), #[8, 9)\n",
    "            (9, np.inf, 7) #[9, 0)\n",
    "           ]\n",
    "\n",
    "optimized =  minimize(ln_gauss, [m_teor, sigma_teor], args=(x_vals))\n",
    "m_optimized, sigma_optimized = optimized.x\n",
    "m_optimized = np.round(m_optimized, 3)\n",
    "sigma_optimized = np.round(sigma_optimized, 3)\n",
    "print(f\"Значение m по омп: {m_optimized}, \\nЗначение sigma по омп {sigma_optimized}\")"
   ]
  },
  {
   "cell_type": "code",
   "execution_count": 82,
   "id": "cacead32",
   "metadata": {},
   "outputs": [],
   "source": [
    "def count_probs(x_vals, m, sigma):  \n",
    "    probs = []\n",
    "    func = lambda x : gauss(x, m, sigma) \n",
    "    for x in x_vals:\n",
    "        integral, _ = integrate.quad(func, x[0], x[1])\n",
    "        probs.append(np.round(integral, 3))\n",
    "    return probs"
   ]
  },
  {
   "cell_type": "code",
   "execution_count": 83,
   "id": "de02d060",
   "metadata": {},
   "outputs": [
    {
     "name": "stdout",
     "output_type": "stream",
     "text": [
      "[0.055 0.055 0.087 0.119 0.142 0.148 0.134 0.106 0.073 0.083]\n",
      "[ 5.5  5.5  8.7 11.9 14.2 14.8 13.4 10.6  7.3  8.3]\n"
     ]
    }
   ],
   "source": [
    "p_i = np.array(count_probs(x_vals, m_optimized, sigma_optimized))\n",
    "np_i = n * p_i\n",
    "\n",
    "print(p_i)\n",
    "print(np_i)"
   ]
  },
  {
   "cell_type": "markdown",
   "id": "8e5a268e",
   "metadata": {},
   "source": [
    "Все значения n * p_i оказались >= 5, так что ничего не нужно группировать"
   ]
  },
  {
   "cell_type": "markdown",
   "id": "811c4583",
   "metadata": {},
   "source": [
    "### Проверка гипотезы по Пирсону"
   ]
  },
  {
   "cell_type": "code",
   "execution_count": 84,
   "id": "64e5dda8",
   "metadata": {},
   "outputs": [
    {
     "name": "stdout",
     "output_type": "stream",
     "text": [
      "Оценочное значение дельта: 9.796\n"
     ]
    }
   ],
   "source": [
    "sample_m = np.array([x[2] for x in x_vals])\n",
    "delta = np.round(np.sum((sample_m - np_i) ** 2 / np_i), 3)\n",
    "print(f\"Оценочное значение дельта: {delta}\")"
   ]
  },
  {
   "cell_type": "code",
   "execution_count": 85,
   "id": "f2110daf",
   "metadata": {},
   "outputs": [
    {
     "name": "stdout",
     "output_type": "stream",
     "text": [
      "Значение p-value по Пирсону: 0.2\n"
     ]
    }
   ],
   "source": [
    "pirson_p_value = np.round(1 - chi2.cdf(delta, m - 1 - s), 3)\n",
    "print(f\"Значение p-value по Пирсону: {pirson_p_value}\")"
   ]
  },
  {
   "cell_type": "markdown",
   "id": "f538c5ee",
   "metadata": {},
   "source": [
    "0.2 > 0.05, так что нет оснований отвергать гипотезу Н0 по Пирсону"
   ]
  },
  {
   "cell_type": "markdown",
   "id": "4d10bcd5",
   "metadata": {},
   "source": [
    "### Проверка гипотезы по Колмогорову"
   ]
  },
  {
   "cell_type": "code",
   "execution_count": 86,
   "id": "d945deea",
   "metadata": {},
   "outputs": [
    {
     "name": "stdout",
     "output_type": "stream",
     "text": [
      "Δ по Колмогорову: 1.01\n"
     ]
    },
    {
     "data": {
      "image/png": "[encoded data removed]",
      "text/plain": [
       "<Figure size 1152x576 with 1 Axes>"
      ]
     },
     "metadata": {
      "needs_background": "light"
     },
     "output_type": "display_data"
    }
   ],
   "source": [
    "def hystogramma(x : list[float]) -> None:\n",
    "    n = int(1 + np.log2(len(x)))  \n",
    "    plt.figure(figsize = (16, 8))\n",
    "    plt.grid()\n",
    "    plt.hist(x, bins=n, density=True, color = \"royalblue\")\n",
    "    plt.title('Гистограмма параметрического бутсрапа для Δ', fontsize=20)\n",
    "    plt.show()\n",
    "\n",
    "def count_delta(probs, x, n = 100):\n",
    "    delta = 0\n",
    "    vals = [0]\n",
    "    for i in range(1, 11):\n",
    "        vals.append(len(x[x < i]))\n",
    "    \n",
    "    for i in range(1, 11):\n",
    "        delta = max(delta, abs(probs[i - 1] - vals[i - 1]/n), abs(probs[i - 1] - vals[i]/n))\n",
    "    return delta * (n ** 0.5)\n",
    "\n",
    "def param_bootstrap(m, sigma, sample):\n",
    "    deltas = np.array([])\n",
    "    \n",
    "    x_vals = np.arange(10)\n",
    "    probs = []   \n",
    "    func = lambda x : gauss(x, m, sigma) \n",
    "    for x in x_vals:\n",
    "        probs.append(np.round(integrate.quad(func, -np.inf, x)[0], 3))\n",
    "    \n",
    "    x_delta = []\n",
    "    for i in range(10): x_delta += [i] * sample[i]\n",
    "    delta = count_delta(probs, np.array(x_delta))\n",
    "    print(f\"Δ по Колмогорову: {np.round(delta, 3)}\")\n",
    "    \n",
    "    for _ in range (50000):\n",
    "        i_subsample = np.round(np.random.normal(m, sigma, 100)) % 10\n",
    "        \n",
    "        i_delta = count_delta(probs, i_subsample)\n",
    "        deltas = np.append(deltas, i_delta)\n",
    "    \n",
    "    hystogramma(deltas)\n",
    "    \n",
    "    return len(deltas[deltas > delta]) / 50000\n",
    "\n",
    "x_delta = []\n",
    "for i in range(10):\n",
    "    x_delta += [i] * sample_m[i]\n",
    "x_selta = np.array(x_delta)\n",
    "col_sigma = (np.std(x_delta)) ** 0.5\n",
    "col_m = np.mean(x_delta)\n",
    "kolm_boot_p_value = param_bootstrap(col_m, col_sigma ** 2, sample_m)"
   ]
  },
  {
   "cell_type": "code",
   "execution_count": 87,
   "id": "d0c5d8e1",
   "metadata": {},
   "outputs": [
    {
     "name": "stdout",
     "output_type": "stream",
     "text": [
      "Значение p-value по Колмогорову с параметрическим бутстрапом: 0.91368\n"
     ]
    }
   ],
   "source": [
    "print(f\"Значение p-value по Колмогорову с параметрическим бутстрапом: {kolm_boot_p_value}\")"
   ]
  },
  {
   "cell_type": "markdown",
   "id": "82d76f63",
   "metadata": {},
   "source": [
    "Значение p-value с по Колмогорову ~ 0.9\n",
    "\n",
    "0.9 > 0.05, так что нет оснований отвергать Н0 по Колмогорову с бутстрапом"
   ]
  },
  {
   "cell_type": "markdown",
   "id": "9195c10a",
   "metadata": {},
   "source": [
    "#### Вывод: нет оснований отвергать гипотезу Н0 что по Пирсону, что по Колмогорову"
   ]
  }
 ],
 "metadata": {
  "kernelspec": {
   "display_name": "Python 3 (ipykernel)",
   "language": "python",
   "name": "python3"
  },
  "language_info": {
   "codemirror_mode": {
    "name": "ipython",
    "version": 3
   },
   "file_extension": ".py",
   "mimetype": "text/x-python",
   "name": "python",
   "nbconvert_exporter": "python",
   "pygments_lexer": "ipython3",
   "version": "3.9.12"
  }
 },
 "nbformat": 4,
 "nbformat_minor": 5
}
